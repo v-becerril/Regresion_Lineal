{
 "cells": [
  {
   "cell_type": "code",
   "execution_count": 1,
   "id": "bdba3303",
   "metadata": {},
   "outputs": [],
   "source": [
    "import pandas as pd\n",
    "import numpy as np\n",
    "import matplotlib.pyplot as plt"
   ]
  },
  {
   "cell_type": "code",
   "execution_count": 17,
   "id": "9c361078",
   "metadata": {},
   "outputs": [
    {
     "data": {
      "text/plain": [
       "(26401, 79)"
      ]
     },
     "execution_count": 17,
     "metadata": {},
     "output_type": "execute_result"
    }
   ],
   "source": [
    "df_original = pd.read_csv('Original_Mexico.csv')\n",
    "df = df_original.copy()\n",
    "df.shape"
   ]
  },
  {
   "cell_type": "code",
   "execution_count": 18,
   "id": "fdf61d48",
   "metadata": {},
   "outputs": [
    {
     "name": "stdout",
     "output_type": "stream",
     "text": [
      "Columnas cualitativas: Index(['listing_url', 'last_scraped', 'source', 'name', 'description',\n",
      "       'neighborhood_overview', 'picture_url', 'host_url', 'host_name',\n",
      "       'host_since', 'host_location', 'host_about', 'host_response_time',\n",
      "       'host_response_rate', 'host_acceptance_rate', 'host_is_superhost',\n",
      "       'host_thumbnail_url', 'host_picture_url', 'host_neighbourhood',\n",
      "       'host_verifications', 'host_has_profile_pic', 'host_identity_verified',\n",
      "       'neighbourhood', 'neighbourhood_cleansed', 'property_type', 'room_type',\n",
      "       'bathrooms_text', 'amenities', 'price', 'has_availability',\n",
      "       'calendar_last_scraped', 'first_review', 'last_review',\n",
      "       'instant_bookable'],\n",
      "      dtype='object')\n"
     ]
    }
   ],
   "source": [
    "# Filtrar columnas NO cuantitativas (excluyendo int y float)\n",
    "df_cualitativas = df.select_dtypes(exclude=['int64', 'float64'])\n",
    "print(\"Columnas cualitativas:\", df_cualitativas.columns)"
   ]
  },
  {
   "cell_type": "code",
   "execution_count": 19,
   "id": "782e3e1f",
   "metadata": {},
   "outputs": [
    {
     "name": "stderr",
     "output_type": "stream",
     "text": [
      "<>:2: SyntaxWarning: invalid escape sequence '\\$'\n",
      "<>:2: SyntaxWarning: invalid escape sequence '\\$'\n",
      "C:\\Users\\vbece\\AppData\\Local\\Temp\\ipykernel_9104\\2798433981.py:2: SyntaxWarning: invalid escape sequence '\\$'\n",
      "  df['price'] = df['price'].replace('[\\$,]', '', regex=True).astype(float)\n"
     ]
    }
   ],
   "source": [
    "#Convertir columnas seleccionadas cualitativas a cuantitativas \n",
    "df['price'] = df['price'].replace('[\\$,]', '', regex=True).astype(float)\n",
    "df['host_response_rate'] = df['host_response_rate'].str.rstrip('%').astype('float') / 100.0\n",
    "df['host_acceptance_rate'] = df['host_acceptance_rate'].str.rstrip('%').astype('float') / 100.0\n",
    "df['host_is_superhost'] = df['host_is_superhost'].map({'t': 1, 'f': 0})"
   ]
  },
  {
   "cell_type": "code",
   "execution_count": 20,
   "id": "0ce14120",
   "metadata": {},
   "outputs": [
    {
     "data": {
      "text/plain": [
       "(26401, 49)"
      ]
     },
     "execution_count": 20,
     "metadata": {},
     "output_type": "execute_result"
    }
   ],
   "source": [
    "#Verificamos que salgan en el df las columnas convertidas\n",
    "df_cuantitativas = df.select_dtypes(include=['int64', 'float64'])\n",
    "df_cuantitativas.shape"
   ]
  },
  {
   "cell_type": "code",
   "execution_count": 21,
   "id": "5f613aae",
   "metadata": {},
   "outputs": [],
   "source": [
    "#Aplicación de la mean para los valores nulos en las columnas cuantitativas\n",
    "cuantitativas = df_cuantitativas.fillna(df_cuantitativas.mean(numeric_only=True))"
   ]
  },
  {
   "cell_type": "code",
   "execution_count": 22,
   "id": "dd0b7e7c",
   "metadata": {},
   "outputs": [
    {
     "data": {
      "text/plain": [
       "neighbourhood_group_cleansed    26401\n",
       "calendar_updated                26401\n",
       "license                         26401\n",
       "dtype: int64"
      ]
     },
     "execution_count": 22,
     "metadata": {},
     "output_type": "execute_result"
    }
   ],
   "source": [
    "#Verificamos valores nulos \n",
    "columnas_Nulas= cuantitativas.isnull().sum()\n",
    "#Observamos que columasn tienen valores nulos \n",
    "columnas_con_nulos = columnas_Nulas[columnas_Nulas > 0]\n",
    "columnas_con_nulos"
   ]
  },
  {
   "cell_type": "code",
   "execution_count": 23,
   "id": "c7cb823a",
   "metadata": {},
   "outputs": [],
   "source": [
    "#Eliminamos columnas que no tienen ningun registro\n",
    "cuantitativas = cuantitativas.drop(['neighbourhood_group_cleansed','calendar_updated','license'], axis=1)"
   ]
  },
  {
   "cell_type": "code",
   "execution_count": 24,
   "id": "e22e5522",
   "metadata": {},
   "outputs": [
    {
     "data": {
      "text/plain": [
       "np.int64(0)"
      ]
     },
     "execution_count": 24,
     "metadata": {},
     "output_type": "execute_result"
    }
   ],
   "source": [
    "#Verificamos valores nulos \n",
    "cuantitativas.isnull().sum().sum()"
   ]
  },
  {
   "cell_type": "code",
   "execution_count": 29,
   "id": "2dcf4f07",
   "metadata": {},
   "outputs": [
    {
     "name": "stdout",
     "output_type": "stream",
     "text": [
      "Límite superior permitido (por columna):\n",
      "id                                              2.870210e+18\n",
      "scrape_id                                       2.025063e+13\n",
      "host_id                                         9.588428e+08\n",
      "host_response_rate                              1.086960e+00\n",
      "host_acceptance_rate                            1.167196e+00\n",
      "host_is_superhost                               2.500000e+00\n",
      "host_listings_count                             3.850000e+01\n",
      "host_total_listings_count                       4.700000e+01\n",
      "latitude                                        1.949191e+01\n",
      "longitude                                      -9.911702e+01\n",
      "accommodates                                    7.000000e+00\n",
      "bathrooms                                       2.250000e+00\n",
      "bedrooms                                        3.500000e+00\n",
      "beds                                            3.500000e+00\n",
      "price                                           3.939731e+03\n",
      "minimum_nights                                  3.500000e+00\n",
      "maximum_nights                                  2.542500e+03\n",
      "minimum_minimum_nights                          3.500000e+00\n",
      "maximum_minimum_nights                          6.000000e+00\n",
      "minimum_maximum_nights                          2.265000e+03\n",
      "maximum_maximum_nights                          2.265000e+03\n",
      "minimum_nights_avg_ntm                          5.750000e+00\n",
      "maximum_nights_avg_ntm                          2.265000e+03\n",
      "availability_30                                 6.450000e+01\n",
      "availability_60                                 1.140000e+02\n",
      "availability_90                                 1.610000e+02\n",
      "availability_365                                6.570000e+02\n",
      "number_of_reviews                               1.615000e+02\n",
      "number_of_reviews_ltm                           6.000000e+01\n",
      "number_of_reviews_l30d                          2.500000e+00\n",
      "availability_eoy                                3.230000e+02\n",
      "number_of_reviews_ly                            5.000000e+01\n",
      "estimated_occupancy_l365d                       3.750000e+02\n",
      "estimated_revenue_l365d                         3.618630e+05\n",
      "review_scores_rating                            5.230000e+00\n",
      "review_scores_accuracy                          5.220000e+00\n",
      "review_scores_cleanliness                       5.255000e+00\n",
      "review_scores_checkin                           5.205000e+00\n",
      "review_scores_communication                     5.239633e+00\n",
      "review_scores_location                          5.205000e+00\n",
      "review_scores_value                             5.205000e+00\n",
      "calculated_host_listings_count                  2.600000e+01\n",
      "calculated_host_listings_count_entire_homes     1.500000e+01\n",
      "calculated_host_listings_count_private_rooms    5.000000e+00\n",
      "calculated_host_listings_count_shared_rooms     0.000000e+00\n",
      "reviews_per_month                               4.965000e+00\n",
      "dtype: float64\n",
      "--------------------------------\n",
      "Límite inferior permitido (por columna):\n",
      "id                                             -1.722126e+18\n",
      "scrape_id                                       2.025063e+13\n",
      "host_id                                        -4.883220e+08\n",
      "host_response_rate                              8.550668e-01\n",
      "host_acceptance_rate                            7.213396e-01\n",
      "host_is_superhost                              -1.500000e+00\n",
      "host_listings_count                            -2.150000e+01\n",
      "host_total_listings_count                      -2.500000e+01\n",
      "latitude                                        1.933186e+01\n",
      "longitude                                      -9.921557e+01\n",
      "accommodates                                   -1.000000e+00\n",
      "bathrooms                                       2.500000e-01\n",
      "bedrooms                                       -5.000000e-01\n",
      "beds                                           -5.000000e-01\n",
      "price                                          -1.261439e+03\n",
      "minimum_nights                                 -5.000000e-01\n",
      "maximum_nights                                 -1.237500e+03\n",
      "minimum_minimum_nights                         -5.000000e-01\n",
      "maximum_minimum_nights                         -2.000000e+00\n",
      "minimum_maximum_nights                         -7.750000e+02\n",
      "maximum_maximum_nights                         -7.750000e+02\n",
      "minimum_nights_avg_ntm                         -1.850000e+00\n",
      "maximum_nights_avg_ntm                         -7.750000e+02\n",
      "availability_30                                -3.550000e+01\n",
      "availability_60                                -3.800000e+01\n",
      "availability_90                                -3.900000e+01\n",
      "availability_365                               -1.670000e+02\n",
      "number_of_reviews                              -9.050000e+01\n",
      "number_of_reviews_ltm                          -3.600000e+01\n",
      "number_of_reviews_l30d                         -1.500000e+00\n",
      "availability_eoy                               -6.100000e+01\n",
      "number_of_reviews_ly                           -3.000000e+01\n",
      "estimated_occupancy_l365d                      -2.250000e+02\n",
      "estimated_revenue_l365d                        -1.992330e+05\n",
      "review_scores_rating                            4.430000e+00\n",
      "review_scores_accuracy                          4.500000e+00\n",
      "review_scores_cleanliness                       4.415000e+00\n",
      "review_scores_checkin                           4.605000e+00\n",
      "review_scores_communication                     4.573945e+00\n",
      "review_scores_location                          4.605000e+00\n",
      "review_scores_value                             4.365000e+00\n",
      "calculated_host_listings_count                 -1.400000e+01\n",
      "calculated_host_listings_count_entire_homes    -9.000000e+00\n",
      "calculated_host_listings_count_private_rooms   -3.000000e+00\n",
      "calculated_host_listings_count_shared_rooms     0.000000e+00\n",
      "reviews_per_month                              -2.115000e+00\n",
      "dtype: float64\n"
     ]
    }
   ],
   "source": [
    "#TODAS LAS COLUMNAS CUANTITATIVAS \n",
    "#Método aplicando Cuartiles. Encuentro cuartiles 0.25 y 0.75\n",
    "y= cuantitativas\n",
    "\n",
    "percentile25 = y.quantile(0.25) #Q1\n",
    "percentile75 = y.quantile(0.75) #Q3\n",
    "iqr = percentile75 - percentile25\n",
    "\n",
    "Limite_Superior_iqr = percentile75 + 1.5 * iqr\n",
    "Limite_Inferior_iqr = percentile25 - 1.5 * iqr\n",
    "\n",
    "print(\"Límite superior permitido (por columna):\") \n",
    "print(Limite_Superior_iqr)\n",
    "print(\"--------------------------------\")\n",
    "print(\"Límite inferior permitido (por columna):\") \n",
    "print(Limite_Inferior_iqr)\n",
    "\n",
    "# Sustituir outliers por los límites (winsorización)\n",
    "# CORRECCIÓN: Se cambiaron los nombres de las variables a las correctas (añadiendo 'r' al final)\n",
    "y_winsor = y.clip(lower=Limite_Inferior_iqr, \n",
    "                  upper=Limite_Superior_iqr, \n",
    "                  axis=1) # axis=1 es crucial para aplicar el límite correcto a cada columna"
   ]
  },
  {
   "cell_type": "code",
   "execution_count": 31,
   "id": "7ff0ba30",
   "metadata": {},
   "outputs": [
    {
     "data": {
      "text/plain": [
       "np.int64(0)"
      ]
     },
     "execution_count": 31,
     "metadata": {},
     "output_type": "execute_result"
    }
   ],
   "source": [
    "y_winsor.isnull().sum().sum()"
   ]
  },
  {
   "cell_type": "code",
   "execution_count": 32,
   "id": "2f463a9a",
   "metadata": {},
   "outputs": [
    {
     "data": {
      "image/png": "[encoded data removed]",
      "text/plain": [
       "<Figure size 1000x300 with 1 Axes>"
      ]
     },
     "metadata": {},
     "output_type": "display_data"
    },
    {
     "data": {
      "image/png": "[encoded data removed]",
      "text/plain": [
       "<Figure size 1000x300 with 1 Axes>"
      ]
     },
     "metadata": {},
     "output_type": "display_data"
    }
   ],
   "source": [
    "#Verificamos el tratado de los outliers \n",
    "fig = plt.figure(figsize =(10, 3))\n",
    "cuantitativas['price'].plot(kind='box', vert=False)\n",
    "plt.title('Boxplot de Price -original')\n",
    "plt.show()\n",
    "\n",
    "fig = plt.figure(figsize =(10, 3))\n",
    "y_winsor['price'].plot(kind='box', vert=False)\n",
    "plt.title('Boxplot de Price -tratado')\n",
    "plt.show()"
   ]
  },
  {
   "cell_type": "code",
   "execution_count": 35,
   "id": "951e660a",
   "metadata": {},
   "outputs": [
    {
     "data": {
      "text/plain": [
       "room_type    0\n",
       "dtype: int64"
      ]
     },
     "execution_count": 35,
     "metadata": {},
     "output_type": "execute_result"
    }
   ],
   "source": [
    "#Verificamos que room_type no tenga nulos \n",
    "df[['room_type']].isnull().sum()"
   ]
  },
  {
   "cell_type": "code",
   "execution_count": 36,
   "id": "34226f4c",
   "metadata": {},
   "outputs": [
    {
     "data": {
      "text/plain": [
       "(26401, 47)"
      ]
     },
     "execution_count": 36,
     "metadata": {},
     "output_type": "execute_result"
    }
   ],
   "source": [
    "#Unimos datafrmae procesado con la columna 'room_type' \n",
    "type = df[['room_type']]\n",
    "db = pd.concat([y_winsor, type], axis=1)\n",
    "db.shape"
   ]
  },
  {
   "cell_type": "code",
   "execution_count": 37,
   "id": "0290435d",
   "metadata": {},
   "outputs": [
    {
     "data": {
      "text/plain": [
       "np.int64(0)"
      ]
     },
     "execution_count": 37,
     "metadata": {},
     "output_type": "execute_result"
    }
   ],
   "source": [
    "#Verificamos valores nulos\n",
    "db.isnull().sum().sum()"
   ]
  },
  {
   "cell_type": "code",
   "execution_count": 38,
   "id": "1c621ca7",
   "metadata": {},
   "outputs": [],
   "source": [
    "#Exportamos el dataframe final a un nuevo CSV\n",
    "db.to_csv('Mexico_Limpio.csv', index=False)"
   ]
  },
  {
   "cell_type": "markdown",
   "id": "06a00ee8",
   "metadata": {},
   "source": [
    "PROCESO VIEJO"
   ]
  },
  {
   "cell_type": "code",
   "execution_count": 103,
   "id": "e7d16462",
   "metadata": {},
   "outputs": [
    {
     "name": "stdout",
     "output_type": "stream",
     "text": [
      "Valores nulos en df sustituido por mediana: 0\n",
      "Valores nulos en df sustituido por media: 0\n"
     ]
    }
   ],
   "source": [
    "#Creación de df según su procesamiento de valores nulos\n",
    "            #Trato de valores nulos por la mediana\n",
    "dfM = df[['maximum_maximum_nights','minimum_maximum_nights', 'maximum_minimum_nights', 'minimum_minimum_nights', 'host_total_listings_count',\n",
    "          'host_listings_count', 'price', 'estimated_revenue_l365d', 'reviews_per_month', 'beds', 'bedrooms', 'bathrooms', 'host_response_rate', 'host_acceptance_rate']]\n",
    "\n",
    "            #Tratar los valores nulos por la media\n",
    "dfMM = df[['bathrooms', 'review_scores_rating', 'review_scores_accuracy', 'review_scores_cleanliness', 'review_scores_checkin', \n",
    "            'review_scores_communication','review_scores_location', 'review_scores_value']]\n",
    "\n",
    "#Procesamiento de valores\n",
    "dfM = dfM.fillna(dfM.median(numeric_only=True))\n",
    "dfMM = dfMM.fillna(dfMM.mean(numeric_only=True))\n",
    "\n",
    "#Verificamos que ya no haya valores nulos en los dataframes\n",
    "nulosM = dfM.isnull().sum().sum()\n",
    "nulosMM = dfMM.isnull().sum().sum()\n",
    "print(\"Valores nulos en df sustituido por mediana:\", nulosM)\n",
    "print(\"Valores nulos en df sustituido por media:\", nulosMM)\n"
   ]
  },
  {
   "cell_type": "code",
   "execution_count": 104,
   "id": "3727ac6e",
   "metadata": {},
   "outputs": [],
   "source": [
    "# Reemplazar columnas en el DataFrame original\n",
    "df.update(dfM)\n",
    "df.update(dfMM)"
   ]
  },
  {
   "cell_type": "code",
   "execution_count": null,
   "id": "4d5e1e63",
   "metadata": {},
   "outputs": [],
   "source": [
    "#Identificar valores nulos por el data frame esepcificado\n",
    "nulos = df_cuantitativas.isnull().sum().sum()\n",
    "print( 'Los valores nulos del las columnas cuantitativas son:', nulos)\n",
    "\n",
    "#Resumen completo de valores por columna - Código proporcionado por IA\n",
    "df_cuantitativas = pd.DataFrame({\n",
    "    'Registros Limpios': df_cuantitativas.notna().sum(),\n",
    "    'Nulos': df_cuantitativas.isna().sum(),\n",
    "    'Tipo': df_cuantitativas.dtypes\n",
    "})\n",
    "\n",
    "# Filtrar solo columnas con nulos de menor a mayor \n",
    "df_nulos = df_cuantitativas[df_cuantitativas['Nulos'] > 0].sort_values(by='Nulos', ascending=True)\n",
    "df_nulos"
   ]
  },
  {
   "cell_type": "code",
   "execution_count": 105,
   "id": "1b2ce51c",
   "metadata": {},
   "outputs": [
    {
     "name": "stdout",
     "output_type": "stream",
     "text": [
      "Los valores nulos son: 155301\n"
     ]
    },
    {
     "data": {
      "text/html": [
       "<div>\n",
       "<style scoped>\n",
       "    .dataframe tbody tr th:only-of-type {\n",
       "        vertical-align: middle;\n",
       "    }\n",
       "\n",
       "    .dataframe tbody tr th {\n",
       "        vertical-align: top;\n",
       "    }\n",
       "\n",
       "    .dataframe thead th {\n",
       "        text-align: right;\n",
       "    }\n",
       "</style>\n",
       "<table border=\"1\" class=\"dataframe\">\n",
       "  <thead>\n",
       "    <tr style=\"text-align: right;\">\n",
       "      <th></th>\n",
       "      <th>Registros Limpios</th>\n",
       "      <th>Nulos</th>\n",
       "      <th>Tipo</th>\n",
       "    </tr>\n",
       "  </thead>\n",
       "  <tbody>\n",
       "    <tr>\n",
       "      <th>bathrooms_text</th>\n",
       "      <td>26370</td>\n",
       "      <td>31</td>\n",
       "      <td>object</td>\n",
       "    </tr>\n",
       "    <tr>\n",
       "      <th>description</th>\n",
       "      <td>25633</td>\n",
       "      <td>768</td>\n",
       "      <td>object</td>\n",
       "    </tr>\n",
       "    <tr>\n",
       "      <th>host_name</th>\n",
       "      <td>25544</td>\n",
       "      <td>857</td>\n",
       "      <td>object</td>\n",
       "    </tr>\n",
       "    <tr>\n",
       "      <th>host_since</th>\n",
       "      <td>25487</td>\n",
       "      <td>914</td>\n",
       "      <td>object</td>\n",
       "    </tr>\n",
       "    <tr>\n",
       "      <th>host_has_profile_pic</th>\n",
       "      <td>25487</td>\n",
       "      <td>914</td>\n",
       "      <td>object</td>\n",
       "    </tr>\n",
       "    <tr>\n",
       "      <th>host_verifications</th>\n",
       "      <td>25487</td>\n",
       "      <td>914</td>\n",
       "      <td>object</td>\n",
       "    </tr>\n",
       "    <tr>\n",
       "      <th>host_picture_url</th>\n",
       "      <td>25487</td>\n",
       "      <td>914</td>\n",
       "      <td>object</td>\n",
       "    </tr>\n",
       "    <tr>\n",
       "      <th>host_identity_verified</th>\n",
       "      <td>25487</td>\n",
       "      <td>914</td>\n",
       "      <td>object</td>\n",
       "    </tr>\n",
       "    <tr>\n",
       "      <th>host_thumbnail_url</th>\n",
       "      <td>25487</td>\n",
       "      <td>914</td>\n",
       "      <td>object</td>\n",
       "    </tr>\n",
       "    <tr>\n",
       "      <th>has_availability</th>\n",
       "      <td>25401</td>\n",
       "      <td>1000</td>\n",
       "      <td>object</td>\n",
       "    </tr>\n",
       "    <tr>\n",
       "      <th>host_is_superhost</th>\n",
       "      <td>25042</td>\n",
       "      <td>1359</td>\n",
       "      <td>object</td>\n",
       "    </tr>\n",
       "    <tr>\n",
       "      <th>first_review</th>\n",
       "      <td>23028</td>\n",
       "      <td>3373</td>\n",
       "      <td>object</td>\n",
       "    </tr>\n",
       "    <tr>\n",
       "      <th>last_review</th>\n",
       "      <td>23028</td>\n",
       "      <td>3373</td>\n",
       "      <td>object</td>\n",
       "    </tr>\n",
       "    <tr>\n",
       "      <th>host_response_time</th>\n",
       "      <td>21715</td>\n",
       "      <td>4686</td>\n",
       "      <td>object</td>\n",
       "    </tr>\n",
       "    <tr>\n",
       "      <th>host_location</th>\n",
       "      <td>20164</td>\n",
       "      <td>6237</td>\n",
       "      <td>object</td>\n",
       "    </tr>\n",
       "    <tr>\n",
       "      <th>host_about</th>\n",
       "      <td>15164</td>\n",
       "      <td>11237</td>\n",
       "      <td>object</td>\n",
       "    </tr>\n",
       "    <tr>\n",
       "      <th>neighbourhood</th>\n",
       "      <td>13970</td>\n",
       "      <td>12431</td>\n",
       "      <td>object</td>\n",
       "    </tr>\n",
       "    <tr>\n",
       "      <th>neighborhood_overview</th>\n",
       "      <td>13970</td>\n",
       "      <td>12431</td>\n",
       "      <td>object</td>\n",
       "    </tr>\n",
       "    <tr>\n",
       "      <th>host_neighbourhood</th>\n",
       "      <td>13570</td>\n",
       "      <td>12831</td>\n",
       "      <td>object</td>\n",
       "    </tr>\n",
       "    <tr>\n",
       "      <th>neighbourhood_group_cleansed</th>\n",
       "      <td>0</td>\n",
       "      <td>26401</td>\n",
       "      <td>float64</td>\n",
       "    </tr>\n",
       "    <tr>\n",
       "      <th>calendar_updated</th>\n",
       "      <td>0</td>\n",
       "      <td>26401</td>\n",
       "      <td>float64</td>\n",
       "    </tr>\n",
       "    <tr>\n",
       "      <th>license</th>\n",
       "      <td>0</td>\n",
       "      <td>26401</td>\n",
       "      <td>float64</td>\n",
       "    </tr>\n",
       "  </tbody>\n",
       "</table>\n",
       "</div>"
      ],
      "text/plain": [
       "                              Registros Limpios  Nulos     Tipo\n",
       "bathrooms_text                            26370     31   object\n",
       "description                               25633    768   object\n",
       "host_name                                 25544    857   object\n",
       "host_since                                25487    914   object\n",
       "host_has_profile_pic                      25487    914   object\n",
       "host_verifications                        25487    914   object\n",
       "host_picture_url                          25487    914   object\n",
       "host_identity_verified                    25487    914   object\n",
       "host_thumbnail_url                        25487    914   object\n",
       "has_availability                          25401   1000   object\n",
       "host_is_superhost                         25042   1359   object\n",
       "first_review                              23028   3373   object\n",
       "last_review                               23028   3373   object\n",
       "host_response_time                        21715   4686   object\n",
       "host_location                             20164   6237   object\n",
       "host_about                                15164  11237   object\n",
       "neighbourhood                             13970  12431   object\n",
       "neighborhood_overview                     13970  12431   object\n",
       "host_neighbourhood                        13570  12831   object\n",
       "neighbourhood_group_cleansed                  0  26401  float64\n",
       "calendar_updated                              0  26401  float64\n",
       "license                                       0  26401  float64"
      ]
     },
     "execution_count": 105,
     "metadata": {},
     "output_type": "execute_result"
    }
   ],
   "source": [
    "#Identificar valores nulos por el data frame esepcificado\n",
    "verificacion = df.copy()\n",
    "nulos1 = verificacion.isnull().sum().sum()\n",
    "print( 'Los valores nulos son:', nulos1)\n",
    "\n",
    "#Resumen completo de valores por columna - Código proporcionado por IA\n",
    "verificacion = pd.DataFrame({\n",
    "    'Registros Limpios': verificacion.notna().sum(),\n",
    "    'Nulos': verificacion.isna().sum(),\n",
    "    'Tipo': verificacion.dtypes\n",
    "})\n",
    "\n",
    "# Filtrar solo columnas con nulos de menor a mayor \n",
    "dfnulos = verificacion[verificacion['Nulos'] > 0].sort_values(by='Nulos', ascending=True)\n",
    "dfnulos"
   ]
  },
  {
   "cell_type": "code",
   "execution_count": 110,
   "id": "66bcdeb1",
   "metadata": {},
   "outputs": [
    {
     "data": {
      "text/plain": [
       "(26401, 79)"
      ]
     },
     "execution_count": 110,
     "metadata": {},
     "output_type": "execute_result"
    }
   ],
   "source": [
    "#unimos ambos dataframes ya procesados\n",
    "df_FINAL = pd.concat([data0, cualitativas], axis=1)\n",
    "df_FINAL.shape"
   ]
  },
  {
   "cell_type": "code",
   "execution_count": 111,
   "id": "d2b25e1d",
   "metadata": {},
   "outputs": [
    {
     "data": {
      "image/png": "[encoded data removed]",
      "text/plain": [
       "<Figure size 2000x200 with 1 Axes>"
      ]
     },
     "metadata": {},
     "output_type": "display_data"
    }
   ],
   "source": [
    "#Verificamos que outliers\n",
    "fig = plt.figure(figsize =(20, 2))\n",
    "df_FINAL['price'].plot(kind='box', vert=False)\n",
    "plt.show()\n"
   ]
  },
  {
   "cell_type": "code",
   "execution_count": null,
   "id": "ce358a56",
   "metadata": {},
   "outputs": [
    {
     "name": "stdout",
     "output_type": "stream",
     "text": [
      "Los valores nulos del data frame son: 21691\n"
     ]
    },
    {
     "data": {
      "text/html": [
       "<div>\n",
       "<style scoped>\n",
       "    .dataframe tbody tr th:only-of-type {\n",
       "        vertical-align: middle;\n",
       "    }\n",
       "\n",
       "    .dataframe tbody tr th {\n",
       "        vertical-align: top;\n",
       "    }\n",
       "\n",
       "    .dataframe thead th {\n",
       "        text-align: right;\n",
       "    }\n",
       "</style>\n",
       "<table border=\"1\" class=\"dataframe\">\n",
       "  <thead>\n",
       "    <tr style=\"text-align: right;\">\n",
       "      <th></th>\n",
       "      <th>Total</th>\n",
       "      <th>Registros Limpios</th>\n",
       "      <th>Nulos</th>\n",
       "      <th>Tipo</th>\n",
       "    </tr>\n",
       "  </thead>\n",
       "  <tbody>\n",
       "    <tr>\n",
       "      <th>price</th>\n",
       "      <td>26401</td>\n",
       "      <td>23127</td>\n",
       "      <td>3274</td>\n",
       "      <td>object</td>\n",
       "    </tr>\n",
       "    <tr>\n",
       "      <th>review_scores_rating</th>\n",
       "      <td>26401</td>\n",
       "      <td>23028</td>\n",
       "      <td>3373</td>\n",
       "      <td>float64</td>\n",
       "    </tr>\n",
       "    <tr>\n",
       "      <th>reviews_per_month</th>\n",
       "      <td>26401</td>\n",
       "      <td>23028</td>\n",
       "      <td>3373</td>\n",
       "      <td>float64</td>\n",
       "    </tr>\n",
       "    <tr>\n",
       "      <th>review_scores_communication</th>\n",
       "      <td>26401</td>\n",
       "      <td>23026</td>\n",
       "      <td>3375</td>\n",
       "      <td>float64</td>\n",
       "    </tr>\n",
       "    <tr>\n",
       "      <th>host_acceptance_rate</th>\n",
       "      <td>26401</td>\n",
       "      <td>22791</td>\n",
       "      <td>3610</td>\n",
       "      <td>object</td>\n",
       "    </tr>\n",
       "    <tr>\n",
       "      <th>host_response_rate</th>\n",
       "      <td>26401</td>\n",
       "      <td>21715</td>\n",
       "      <td>4686</td>\n",
       "      <td>object</td>\n",
       "    </tr>\n",
       "  </tbody>\n",
       "</table>\n",
       "</div>"
      ],
      "text/plain": [
       "                             Total  Registros Limpios  Nulos     Tipo\n",
       "price                        26401              23127   3274   object\n",
       "review_scores_rating         26401              23028   3373  float64\n",
       "reviews_per_month            26401              23028   3373  float64\n",
       "review_scores_communication  26401              23026   3375  float64\n",
       "host_acceptance_rate         26401              22791   3610   object\n",
       "host_response_rate           26401              21715   4686   object"
      ]
     },
     "execution_count": 4,
     "metadata": {},
     "output_type": "execute_result"
    }
   ],
   "source": [
    "#Creación de df con variables necesarias para actividad 1\n",
    "variables = df[['room_type','host_acceptance_rate', 'host_response_rate', 'price', 'number_of_reviews', 'review_scores_rating', 'calculated_host_listings_count', 'availability_365', 'reviews_per_month', 'review_scores_communication']]\n",
    "\n",
    "#Identificar valores nulos por el data frame esepcificado\n",
    "nulos = variables.isnull().sum().sum()\n",
    "print( 'Los valores nulos del data frame son:', nulos)\n",
    "\n",
    "#Resumen completo de valores por columna - Código proporcionado por IA\n",
    "valores = pd.DataFrame({\n",
    "    'Total': len(df),\n",
    "    'Registros Limpios': variables.notna().sum(),\n",
    "    'Nulos': variables.isna().sum(),\n",
    "    'Tipo': variables.dtypes\n",
    "})\n",
    "\n",
    "# Filtrar solo columnas con nulos de menor a mayor \n",
    "df_nulos = valores[valores['Nulos'] > 0].sort_values(by='Nulos', ascending=True)\n",
    "df_nulos"
   ]
  },
  {
   "cell_type": "markdown",
   "id": "0619c369",
   "metadata": {},
   "source": [
    "_____________________________________________\n",
    "\n",
    "VALORES NULOS EN VARIABLES NECESARIAS\n",
    "_____________________________________________"
   ]
  },
  {
   "cell_type": "code",
   "execution_count": null,
   "id": "3e653a5e",
   "metadata": {},
   "outputs": [
    {
     "name": "stdout",
     "output_type": "stream",
     "text": [
      "El número de valores únicos de la columna: 150\n",
      "Los valores nulos que contiene la columna: 0\n"
     ]
    },
    {
     "name": "stderr",
     "output_type": "stream",
     "text": [
      "C:\\Users\\vbece\\AppData\\Local\\Temp\\ipykernel_13644\\2539178912.py:7: SettingWithCopyWarning: \n",
      "A value is trying to be set on a copy of a slice from a DataFrame.\n",
      "Try using .loc[row_indexer,col_indexer] = value instead\n",
      "\n",
      "See the caveats in the documentation: https://pandas.pydata.org/pandas-docs/stable/user_guide/indexing.html#returning-a-view-versus-a-copy\n",
      "  variables['review_scores_communication'] = variables['review_scores_communication'].fillna(variables['review_scores_communication'].mean())\n"
     ]
    }
   ],
   "source": [
    "#Conocimiento de la columna  'review_scores_communication' (3,375 valores nulos)\n",
    "    #Número de valores únicos de la columna: \n",
    "print('El número de valores únicos de la columna:', variables['review_scores_communication'].nunique())\n",
    "    #Lista de valores únicos\n",
    "#print('Lista de valores únicos de la columna:',variables['review_scores_communication'].unique())\n",
    "    #Sustitución de valores con la media de la columna\n",
    "variables['review_scores_communication'] = variables['review_scores_communication'].fillna(variables['review_scores_communication'].mean())\n",
    "print('Los valores nulos que contiene la columna:',variables['review_scores_communication'].isna().sum())"
   ]
  },
  {
   "cell_type": "code",
   "execution_count": null,
   "id": "825ca940",
   "metadata": {},
   "outputs": [
    {
     "name": "stdout",
     "output_type": "stream",
     "text": [
      "El número de valores únicos de la columna: 1004\n",
      "Los valores nulos que contiene la columna: 0\n"
     ]
    },
    {
     "name": "stderr",
     "output_type": "stream",
     "text": [
      "C:\\Users\\vbece\\AppData\\Local\\Temp\\ipykernel_13644\\2599395850.py:7: SettingWithCopyWarning: \n",
      "A value is trying to be set on a copy of a slice from a DataFrame.\n",
      "Try using .loc[row_indexer,col_indexer] = value instead\n",
      "\n",
      "See the caveats in the documentation: https://pandas.pydata.org/pandas-docs/stable/user_guide/indexing.html#returning-a-view-versus-a-copy\n",
      "  variables['reviews_per_month'] = variables['reviews_per_month'].fillna(variables['reviews_per_month'].mean())\n"
     ]
    }
   ],
   "source": [
    "#Conocimiento de la columna  'reviews_per_month' (3,373 valores nulos)\n",
    "    #Número de valores únicos de la columna: \n",
    "print('El número de valores únicos de la columna:', variables['reviews_per_month'].nunique())\n",
    "    #Lista de valores únicos\n",
    "#print('Lista de valores únicos de la columna:',variables['review_scores_rating'].unique())\n",
    "    #Sustitución de valores con la media de la columna\n",
    "variables['reviews_per_month'] = variables['reviews_per_month'].fillna(variables['reviews_per_month'].mean())\n",
    "print('Los valores nulos que contiene la columna:',variables['reviews_per_month'].isna().sum())"
   ]
  },
  {
   "cell_type": "code",
   "execution_count": null,
   "id": "b3f1199a",
   "metadata": {},
   "outputs": [
    {
     "name": "stdout",
     "output_type": "stream",
     "text": [
      "El número de valores únicos de la columna: 151\n",
      "Los valores nulos que contiene la columna: 0\n"
     ]
    },
    {
     "name": "stderr",
     "output_type": "stream",
     "text": [
      "C:\\Users\\vbece\\AppData\\Local\\Temp\\ipykernel_13644\\2870611046.py:7: SettingWithCopyWarning: \n",
      "A value is trying to be set on a copy of a slice from a DataFrame.\n",
      "Try using .loc[row_indexer,col_indexer] = value instead\n",
      "\n",
      "See the caveats in the documentation: https://pandas.pydata.org/pandas-docs/stable/user_guide/indexing.html#returning-a-view-versus-a-copy\n",
      "  variables['review_scores_rating'] = variables['review_scores_rating'].fillna(variables['review_scores_rating'].mean())\n"
     ]
    }
   ],
   "source": [
    "#Conocimiento de la columna  'review_scores_rating' (3,373 valores nulos)\n",
    "    #Número de valores únicos de la columna: \n",
    "print('El número de valores únicos de la columna:', variables['review_scores_rating'].nunique())\n",
    "    #Lista de valores únicos\n",
    "#print('Lista de valores únicos de la columna:',variables['review_scores_rating'].unique())\n",
    "    #Sustitución de valores con la media de la columna\n",
    "variables['review_scores_rating'] = variables['review_scores_rating'].fillna(variables['review_scores_rating'].mean())\n",
    "print('Los valores nulos que contiene la columna:',variables['review_scores_rating'].isna().sum())"
   ]
  },
  {
   "cell_type": "code",
   "execution_count": null,
   "id": "612616c2",
   "metadata": {},
   "outputs": [
    {
     "name": "stdout",
     "output_type": "stream",
     "text": [
      "El número de valores únicos de la columna: 65\n",
      "Los valores nulos que contiene la columna: 0\n"
     ]
    },
    {
     "name": "stderr",
     "output_type": "stream",
     "text": [
      "C:\\Users\\vbece\\AppData\\Local\\Temp\\ipykernel_13644\\1610369705.py:7: SettingWithCopyWarning: \n",
      "A value is trying to be set on a copy of a slice from a DataFrame.\n",
      "Try using .loc[row_indexer,col_indexer] = value instead\n",
      "\n",
      "See the caveats in the documentation: https://pandas.pydata.org/pandas-docs/stable/user_guide/indexing.html#returning-a-view-versus-a-copy\n",
      "  variables['host_response_rate'] = variables['host_response_rate'].fillna('Not specified')\n"
     ]
    }
   ],
   "source": [
    "#Conocimiento de la columna  'host_response_rate' (4,686 valores nulos)\n",
    "    #Número de valores únicos de la columna: \n",
    "print('El número de valores únicos de la columna:', variables['host_response_rate'].nunique())\n",
    "    #Lista de valores únicos\n",
    "#print('Lista de valores únicos de la columna:',variables['host_response_rate'].unique())\n",
    "   #Sustitución de valores con un valoren concreto\n",
    "variables['host_response_rate'] = variables['host_response_rate'].fillna('Not specified')\n",
    "print('Los valores nulos que contiene la columna:',variables['host_response_rate'].isna().sum())"
   ]
  },
  {
   "cell_type": "code",
   "execution_count": null,
   "id": "46be8171",
   "metadata": {},
   "outputs": [
    {
     "name": "stdout",
     "output_type": "stream",
     "text": [
      "El número de valores únicos de la columna: 100\n",
      "Los valores nulos que contiene la columna: 0\n"
     ]
    },
    {
     "name": "stderr",
     "output_type": "stream",
     "text": [
      "C:\\Users\\vbece\\AppData\\Local\\Temp\\ipykernel_13644\\356836868.py:7: SettingWithCopyWarning: \n",
      "A value is trying to be set on a copy of a slice from a DataFrame.\n",
      "Try using .loc[row_indexer,col_indexer] = value instead\n",
      "\n",
      "See the caveats in the documentation: https://pandas.pydata.org/pandas-docs/stable/user_guide/indexing.html#returning-a-view-versus-a-copy\n",
      "  variables['host_acceptance_rate'] = variables['host_acceptance_rate'].fillna('Not specified')\n"
     ]
    }
   ],
   "source": [
    "#Conocimiento de la columna  'host_acceptance_rate' (3,610 valores nulos)\n",
    "    #Número de valores únicos de la columna: \n",
    "print('El número de valores únicos de la columna:', variables['host_acceptance_rate'].nunique())\n",
    "    #Lista de valores únicos\n",
    "#print('Lista de valores únicos de la columna:',variables['host_acceptance_rate'].unique())\n",
    "   #Sustitución de valores con un valoren concreto\n",
    "variables['host_acceptance_rate'] = variables['host_acceptance_rate'].fillna('Not specified')\n",
    "print('Los valores nulos que contiene la columna:',variables['host_acceptance_rate'].isna().sum())"
   ]
  },
  {
   "cell_type": "code",
   "execution_count": null,
   "id": "3b969030",
   "metadata": {},
   "outputs": [
    {
     "name": "stdout",
     "output_type": "stream",
     "text": [
      "El número de valores únicos de la columna: 3957\n",
      "Los valores nulos que contiene la columna: 0\n"
     ]
    },
    {
     "name": "stderr",
     "output_type": "stream",
     "text": [
      "<>:7: SyntaxWarning: invalid escape sequence '\\$'\n",
      "<>:7: SyntaxWarning: invalid escape sequence '\\$'\n",
      "C:\\Users\\vbece\\AppData\\Local\\Temp\\ipykernel_13644\\2786918129.py:7: SyntaxWarning: invalid escape sequence '\\$'\n",
      "  variables['price'] = variables['price'].replace('[\\$,]', '', regex=True).astype(float)\n",
      "C:\\Users\\vbece\\AppData\\Local\\Temp\\ipykernel_13644\\2786918129.py:7: SettingWithCopyWarning: \n",
      "A value is trying to be set on a copy of a slice from a DataFrame.\n",
      "Try using .loc[row_indexer,col_indexer] = value instead\n",
      "\n",
      "See the caveats in the documentation: https://pandas.pydata.org/pandas-docs/stable/user_guide/indexing.html#returning-a-view-versus-a-copy\n",
      "  variables['price'] = variables['price'].replace('[\\$,]', '', regex=True).astype(float)\n",
      "C:\\Users\\vbece\\AppData\\Local\\Temp\\ipykernel_13644\\2786918129.py:9: SettingWithCopyWarning: \n",
      "A value is trying to be set on a copy of a slice from a DataFrame.\n",
      "Try using .loc[row_indexer,col_indexer] = value instead\n",
      "\n",
      "See the caveats in the documentation: https://pandas.pydata.org/pandas-docs/stable/user_guide/indexing.html#returning-a-view-versus-a-copy\n",
      "  variables['price'] = variables['price'].fillna(variables['price'].mean())\n"
     ]
    }
   ],
   "source": [
    "#Conocimiento de la columna  'price' (3,274 valores nulos)\n",
    "    #Número de valores únicos de la columna: \n",
    "print('El número de valores únicos de la columna:', variables['price'].nunique())\n",
    "    #Lista de valores únicos\n",
    "#print('Lista de valores únicos de la columna:',variables['price'].unique())\n",
    "    #Convertimos a float la columan \n",
    "variables['price'] = variables['price'].replace('[\\$,]', '', regex=True).astype(float)\n",
    "    #Sustitución de valores con la media de la columna\n",
    "variables['price'] = variables['price'].fillna(variables['price'].mean())\n",
    "print('Los valores nulos que contiene la columna:',variables['price'].isna().sum())"
   ]
  },
  {
   "cell_type": "code",
   "execution_count": null,
   "id": "1c445367",
   "metadata": {},
   "outputs": [
    {
     "data": {
      "text/plain": [
       "np.int64(0)"
      ]
     },
     "execution_count": 100,
     "metadata": {},
     "output_type": "execute_result"
    }
   ],
   "source": [
    "#Verificamos si existe algún valor nulo en el data frame\n",
    "variables.isna().sum().sum()"
   ]
  },
  {
   "cell_type": "code",
   "execution_count": null,
   "id": "8051b401",
   "metadata": {},
   "outputs": [],
   "source": [
    "#Exportamos la base de datos con las columas seleccionadas sin valrores nulos\n",
    "#variables.to_csv('Base_Act1.csv', index=False)"
   ]
  },
  {
   "cell_type": "markdown",
   "id": "d22f1f48",
   "metadata": {},
   "source": [
    "_____________________________________________\n",
    "\n",
    "VALORES NULOS \n",
    "_____________________________________________"
   ]
  },
  {
   "cell_type": "code",
   "execution_count": 3,
   "id": "7250aaef",
   "metadata": {},
   "outputs": [
    {
     "name": "stdout",
     "output_type": "stream",
     "text": [
      "Los valores nulos del data frame son: 206551\n"
     ]
    },
    {
     "data": {
      "text/html": [
       "<div>\n",
       "<style scoped>\n",
       "    .dataframe tbody tr th:only-of-type {\n",
       "        vertical-align: middle;\n",
       "    }\n",
       "\n",
       "    .dataframe tbody tr th {\n",
       "        vertical-align: top;\n",
       "    }\n",
       "\n",
       "    .dataframe thead th {\n",
       "        text-align: right;\n",
       "    }\n",
       "</style>\n",
       "<table border=\"1\" class=\"dataframe\">\n",
       "  <thead>\n",
       "    <tr style=\"text-align: right;\">\n",
       "      <th></th>\n",
       "      <th>Total</th>\n",
       "      <th>Registro Limpio</th>\n",
       "      <th>Nulos</th>\n",
       "      <th>Tipo</th>\n",
       "    </tr>\n",
       "  </thead>\n",
       "  <tbody>\n",
       "    <tr>\n",
       "      <th>minimum_minimum_nights</th>\n",
       "      <td>26401</td>\n",
       "      <td>26381</td>\n",
       "      <td>20</td>\n",
       "      <td>float64</td>\n",
       "    </tr>\n",
       "    <tr>\n",
       "      <th>maximum_minimum_nights</th>\n",
       "      <td>26401</td>\n",
       "      <td>26381</td>\n",
       "      <td>20</td>\n",
       "      <td>float64</td>\n",
       "    </tr>\n",
       "    <tr>\n",
       "      <th>minimum_maximum_nights</th>\n",
       "      <td>26401</td>\n",
       "      <td>26381</td>\n",
       "      <td>20</td>\n",
       "      <td>float64</td>\n",
       "    </tr>\n",
       "    <tr>\n",
       "      <th>maximum_maximum_nights</th>\n",
       "      <td>26401</td>\n",
       "      <td>26381</td>\n",
       "      <td>20</td>\n",
       "      <td>float64</td>\n",
       "    </tr>\n",
       "    <tr>\n",
       "      <th>bathrooms_text</th>\n",
       "      <td>26401</td>\n",
       "      <td>26370</td>\n",
       "      <td>31</td>\n",
       "      <td>object</td>\n",
       "    </tr>\n",
       "    <tr>\n",
       "      <th>description</th>\n",
       "      <td>26401</td>\n",
       "      <td>25633</td>\n",
       "      <td>768</td>\n",
       "      <td>object</td>\n",
       "    </tr>\n",
       "    <tr>\n",
       "      <th>host_name</th>\n",
       "      <td>26401</td>\n",
       "      <td>25544</td>\n",
       "      <td>857</td>\n",
       "      <td>object</td>\n",
       "    </tr>\n",
       "    <tr>\n",
       "      <th>host_since</th>\n",
       "      <td>26401</td>\n",
       "      <td>25487</td>\n",
       "      <td>914</td>\n",
       "      <td>object</td>\n",
       "    </tr>\n",
       "    <tr>\n",
       "      <th>host_listings_count</th>\n",
       "      <td>26401</td>\n",
       "      <td>25487</td>\n",
       "      <td>914</td>\n",
       "      <td>float64</td>\n",
       "    </tr>\n",
       "    <tr>\n",
       "      <th>host_identity_verified</th>\n",
       "      <td>26401</td>\n",
       "      <td>25487</td>\n",
       "      <td>914</td>\n",
       "      <td>object</td>\n",
       "    </tr>\n",
       "    <tr>\n",
       "      <th>host_has_profile_pic</th>\n",
       "      <td>26401</td>\n",
       "      <td>25487</td>\n",
       "      <td>914</td>\n",
       "      <td>object</td>\n",
       "    </tr>\n",
       "    <tr>\n",
       "      <th>host_verifications</th>\n",
       "      <td>26401</td>\n",
       "      <td>25487</td>\n",
       "      <td>914</td>\n",
       "      <td>object</td>\n",
       "    </tr>\n",
       "    <tr>\n",
       "      <th>host_thumbnail_url</th>\n",
       "      <td>26401</td>\n",
       "      <td>25487</td>\n",
       "      <td>914</td>\n",
       "      <td>object</td>\n",
       "    </tr>\n",
       "    <tr>\n",
       "      <th>host_total_listings_count</th>\n",
       "      <td>26401</td>\n",
       "      <td>25487</td>\n",
       "      <td>914</td>\n",
       "      <td>float64</td>\n",
       "    </tr>\n",
       "    <tr>\n",
       "      <th>host_picture_url</th>\n",
       "      <td>26401</td>\n",
       "      <td>25487</td>\n",
       "      <td>914</td>\n",
       "      <td>object</td>\n",
       "    </tr>\n",
       "    <tr>\n",
       "      <th>bedrooms</th>\n",
       "      <td>26401</td>\n",
       "      <td>25477</td>\n",
       "      <td>924</td>\n",
       "      <td>float64</td>\n",
       "    </tr>\n",
       "    <tr>\n",
       "      <th>has_availability</th>\n",
       "      <td>26401</td>\n",
       "      <td>25401</td>\n",
       "      <td>1000</td>\n",
       "      <td>object</td>\n",
       "    </tr>\n",
       "    <tr>\n",
       "      <th>host_is_superhost</th>\n",
       "      <td>26401</td>\n",
       "      <td>25042</td>\n",
       "      <td>1359</td>\n",
       "      <td>object</td>\n",
       "    </tr>\n",
       "    <tr>\n",
       "      <th>estimated_revenue_l365d</th>\n",
       "      <td>26401</td>\n",
       "      <td>23127</td>\n",
       "      <td>3274</td>\n",
       "      <td>float64</td>\n",
       "    </tr>\n",
       "    <tr>\n",
       "      <th>price</th>\n",
       "      <td>26401</td>\n",
       "      <td>23127</td>\n",
       "      <td>3274</td>\n",
       "      <td>object</td>\n",
       "    </tr>\n",
       "    <tr>\n",
       "      <th>bathrooms</th>\n",
       "      <td>26401</td>\n",
       "      <td>23120</td>\n",
       "      <td>3281</td>\n",
       "      <td>float64</td>\n",
       "    </tr>\n",
       "    <tr>\n",
       "      <th>beds</th>\n",
       "      <td>26401</td>\n",
       "      <td>23104</td>\n",
       "      <td>3297</td>\n",
       "      <td>float64</td>\n",
       "    </tr>\n",
       "    <tr>\n",
       "      <th>last_review</th>\n",
       "      <td>26401</td>\n",
       "      <td>23028</td>\n",
       "      <td>3373</td>\n",
       "      <td>object</td>\n",
       "    </tr>\n",
       "    <tr>\n",
       "      <th>first_review</th>\n",
       "      <td>26401</td>\n",
       "      <td>23028</td>\n",
       "      <td>3373</td>\n",
       "      <td>object</td>\n",
       "    </tr>\n",
       "    <tr>\n",
       "      <th>reviews_per_month</th>\n",
       "      <td>26401</td>\n",
       "      <td>23028</td>\n",
       "      <td>3373</td>\n",
       "      <td>float64</td>\n",
       "    </tr>\n",
       "    <tr>\n",
       "      <th>review_scores_rating</th>\n",
       "      <td>26401</td>\n",
       "      <td>23028</td>\n",
       "      <td>3373</td>\n",
       "      <td>float64</td>\n",
       "    </tr>\n",
       "    <tr>\n",
       "      <th>review_scores_checkin</th>\n",
       "      <td>26401</td>\n",
       "      <td>23026</td>\n",
       "      <td>3375</td>\n",
       "      <td>float64</td>\n",
       "    </tr>\n",
       "    <tr>\n",
       "      <th>review_scores_cleanliness</th>\n",
       "      <td>26401</td>\n",
       "      <td>23026</td>\n",
       "      <td>3375</td>\n",
       "      <td>float64</td>\n",
       "    </tr>\n",
       "    <tr>\n",
       "      <th>review_scores_accuracy</th>\n",
       "      <td>26401</td>\n",
       "      <td>23026</td>\n",
       "      <td>3375</td>\n",
       "      <td>float64</td>\n",
       "    </tr>\n",
       "    <tr>\n",
       "      <th>review_scores_communication</th>\n",
       "      <td>26401</td>\n",
       "      <td>23026</td>\n",
       "      <td>3375</td>\n",
       "      <td>float64</td>\n",
       "    </tr>\n",
       "    <tr>\n",
       "      <th>review_scores_value</th>\n",
       "      <td>26401</td>\n",
       "      <td>23026</td>\n",
       "      <td>3375</td>\n",
       "      <td>float64</td>\n",
       "    </tr>\n",
       "    <tr>\n",
       "      <th>review_scores_location</th>\n",
       "      <td>26401</td>\n",
       "      <td>23026</td>\n",
       "      <td>3375</td>\n",
       "      <td>float64</td>\n",
       "    </tr>\n",
       "    <tr>\n",
       "      <th>host_acceptance_rate</th>\n",
       "      <td>26401</td>\n",
       "      <td>22791</td>\n",
       "      <td>3610</td>\n",
       "      <td>object</td>\n",
       "    </tr>\n",
       "    <tr>\n",
       "      <th>host_response_rate</th>\n",
       "      <td>26401</td>\n",
       "      <td>21715</td>\n",
       "      <td>4686</td>\n",
       "      <td>object</td>\n",
       "    </tr>\n",
       "    <tr>\n",
       "      <th>host_response_time</th>\n",
       "      <td>26401</td>\n",
       "      <td>21715</td>\n",
       "      <td>4686</td>\n",
       "      <td>object</td>\n",
       "    </tr>\n",
       "    <tr>\n",
       "      <th>host_location</th>\n",
       "      <td>26401</td>\n",
       "      <td>20164</td>\n",
       "      <td>6237</td>\n",
       "      <td>object</td>\n",
       "    </tr>\n",
       "    <tr>\n",
       "      <th>host_about</th>\n",
       "      <td>26401</td>\n",
       "      <td>15164</td>\n",
       "      <td>11237</td>\n",
       "      <td>object</td>\n",
       "    </tr>\n",
       "    <tr>\n",
       "      <th>neighborhood_overview</th>\n",
       "      <td>26401</td>\n",
       "      <td>13970</td>\n",
       "      <td>12431</td>\n",
       "      <td>object</td>\n",
       "    </tr>\n",
       "    <tr>\n",
       "      <th>neighbourhood</th>\n",
       "      <td>26401</td>\n",
       "      <td>13970</td>\n",
       "      <td>12431</td>\n",
       "      <td>object</td>\n",
       "    </tr>\n",
       "    <tr>\n",
       "      <th>host_neighbourhood</th>\n",
       "      <td>26401</td>\n",
       "      <td>13570</td>\n",
       "      <td>12831</td>\n",
       "      <td>object</td>\n",
       "    </tr>\n",
       "    <tr>\n",
       "      <th>calendar_updated</th>\n",
       "      <td>26401</td>\n",
       "      <td>0</td>\n",
       "      <td>26401</td>\n",
       "      <td>float64</td>\n",
       "    </tr>\n",
       "    <tr>\n",
       "      <th>neighbourhood_group_cleansed</th>\n",
       "      <td>26401</td>\n",
       "      <td>0</td>\n",
       "      <td>26401</td>\n",
       "      <td>float64</td>\n",
       "    </tr>\n",
       "    <tr>\n",
       "      <th>license</th>\n",
       "      <td>26401</td>\n",
       "      <td>0</td>\n",
       "      <td>26401</td>\n",
       "      <td>float64</td>\n",
       "    </tr>\n",
       "  </tbody>\n",
       "</table>\n",
       "</div>"
      ],
      "text/plain": [
       "                              Total  Registro Limpio  Nulos     Tipo\n",
       "minimum_minimum_nights        26401            26381     20  float64\n",
       "maximum_minimum_nights        26401            26381     20  float64\n",
       "minimum_maximum_nights        26401            26381     20  float64\n",
       "maximum_maximum_nights        26401            26381     20  float64\n",
       "bathrooms_text                26401            26370     31   object\n",
       "description                   26401            25633    768   object\n",
       "host_name                     26401            25544    857   object\n",
       "host_since                    26401            25487    914   object\n",
       "host_listings_count           26401            25487    914  float64\n",
       "host_identity_verified        26401            25487    914   object\n",
       "host_has_profile_pic          26401            25487    914   object\n",
       "host_verifications            26401            25487    914   object\n",
       "host_thumbnail_url            26401            25487    914   object\n",
       "host_total_listings_count     26401            25487    914  float64\n",
       "host_picture_url              26401            25487    914   object\n",
       "bedrooms                      26401            25477    924  float64\n",
       "has_availability              26401            25401   1000   object\n",
       "host_is_superhost             26401            25042   1359   object\n",
       "estimated_revenue_l365d       26401            23127   3274  float64\n",
       "price                         26401            23127   3274   object\n",
       "bathrooms                     26401            23120   3281  float64\n",
       "beds                          26401            23104   3297  float64\n",
       "last_review                   26401            23028   3373   object\n",
       "first_review                  26401            23028   3373   object\n",
       "reviews_per_month             26401            23028   3373  float64\n",
       "review_scores_rating          26401            23028   3373  float64\n",
       "review_scores_checkin         26401            23026   3375  float64\n",
       "review_scores_cleanliness     26401            23026   3375  float64\n",
       "review_scores_accuracy        26401            23026   3375  float64\n",
       "review_scores_communication   26401            23026   3375  float64\n",
       "review_scores_value           26401            23026   3375  float64\n",
       "review_scores_location        26401            23026   3375  float64\n",
       "host_acceptance_rate          26401            22791   3610   object\n",
       "host_response_rate            26401            21715   4686   object\n",
       "host_response_time            26401            21715   4686   object\n",
       "host_location                 26401            20164   6237   object\n",
       "host_about                    26401            15164  11237   object\n",
       "neighborhood_overview         26401            13970  12431   object\n",
       "neighbourhood                 26401            13970  12431   object\n",
       "host_neighbourhood            26401            13570  12831   object\n",
       "calendar_updated              26401                0  26401  float64\n",
       "neighbourhood_group_cleansed  26401                0  26401  float64\n",
       "license                       26401                0  26401  float64"
      ]
     },
     "execution_count": 3,
     "metadata": {},
     "output_type": "execute_result"
    }
   ],
   "source": [
    "#Identificar valores nulos por el data frame\n",
    "valores_nulos = df.isnull().sum().sum()\n",
    "print( 'Los valores nulos del data frame son:', valores_nulos)\n",
    "\n",
    "#Resumen completo de valores por columna - Código proporcionado por IA\n",
    "valores = pd.DataFrame({\n",
    "    'Total': len(df),\n",
    "    'Registro Limpio': df.notna().sum(),\n",
    "    'Nulos': df.isna().sum(),\n",
    "    'Tipo': df.dtypes\n",
    "})\n",
    "\n",
    "# Filtrar solo columnas con nulos de menor a mayor \n",
    "valores_con_nulos = valores[valores['Nulos'] > 0].sort_values(by='Nulos', ascending=True)\n",
    "valores_con_nulos"
   ]
  },
  {
   "cell_type": "markdown",
   "id": "ed255709",
   "metadata": {},
   "source": [
    "TRATO DE COLUMNAS TIPO OBJECT"
   ]
  },
  {
   "cell_type": "code",
   "execution_count": null,
   "id": "65d9bd95",
   "metadata": {},
   "outputs": [
    {
     "data": {
      "text/html": [
       "<div>\n",
       "<style scoped>\n",
       "    .dataframe tbody tr th:only-of-type {\n",
       "        vertical-align: middle;\n",
       "    }\n",
       "\n",
       "    .dataframe tbody tr th {\n",
       "        vertical-align: top;\n",
       "    }\n",
       "\n",
       "    .dataframe thead th {\n",
       "        text-align: right;\n",
       "    }\n",
       "</style>\n",
       "<table border=\"1\" class=\"dataframe\">\n",
       "  <thead>\n",
       "    <tr style=\"text-align: right;\">\n",
       "      <th></th>\n",
       "      <th>Num_filas</th>\n",
       "      <th>Num_nulos</th>\n",
       "      <th>Nulos</th>\n",
       "      <th>Tipo</th>\n",
       "    </tr>\n",
       "  </thead>\n",
       "  <tbody>\n",
       "    <tr>\n",
       "      <th>bathrooms_text</th>\n",
       "      <td>26401</td>\n",
       "      <td>26370</td>\n",
       "      <td>31</td>\n",
       "      <td>object</td>\n",
       "    </tr>\n",
       "    <tr>\n",
       "      <th>description</th>\n",
       "      <td>26401</td>\n",
       "      <td>25633</td>\n",
       "      <td>768</td>\n",
       "      <td>object</td>\n",
       "    </tr>\n",
       "    <tr>\n",
       "      <th>host_name</th>\n",
       "      <td>26401</td>\n",
       "      <td>25544</td>\n",
       "      <td>857</td>\n",
       "      <td>object</td>\n",
       "    </tr>\n",
       "    <tr>\n",
       "      <th>host_since</th>\n",
       "      <td>26401</td>\n",
       "      <td>25487</td>\n",
       "      <td>914</td>\n",
       "      <td>object</td>\n",
       "    </tr>\n",
       "    <tr>\n",
       "      <th>host_identity_verified</th>\n",
       "      <td>26401</td>\n",
       "      <td>25487</td>\n",
       "      <td>914</td>\n",
       "      <td>object</td>\n",
       "    </tr>\n",
       "    <tr>\n",
       "      <th>host_has_profile_pic</th>\n",
       "      <td>26401</td>\n",
       "      <td>25487</td>\n",
       "      <td>914</td>\n",
       "      <td>object</td>\n",
       "    </tr>\n",
       "    <tr>\n",
       "      <th>host_verifications</th>\n",
       "      <td>26401</td>\n",
       "      <td>25487</td>\n",
       "      <td>914</td>\n",
       "      <td>object</td>\n",
       "    </tr>\n",
       "    <tr>\n",
       "      <th>host_thumbnail_url</th>\n",
       "      <td>26401</td>\n",
       "      <td>25487</td>\n",
       "      <td>914</td>\n",
       "      <td>object</td>\n",
       "    </tr>\n",
       "    <tr>\n",
       "      <th>host_picture_url</th>\n",
       "      <td>26401</td>\n",
       "      <td>25487</td>\n",
       "      <td>914</td>\n",
       "      <td>object</td>\n",
       "    </tr>\n",
       "    <tr>\n",
       "      <th>has_availability</th>\n",
       "      <td>26401</td>\n",
       "      <td>25401</td>\n",
       "      <td>1000</td>\n",
       "      <td>object</td>\n",
       "    </tr>\n",
       "    <tr>\n",
       "      <th>host_is_superhost</th>\n",
       "      <td>26401</td>\n",
       "      <td>25042</td>\n",
       "      <td>1359</td>\n",
       "      <td>object</td>\n",
       "    </tr>\n",
       "    <tr>\n",
       "      <th>price</th>\n",
       "      <td>26401</td>\n",
       "      <td>23127</td>\n",
       "      <td>3274</td>\n",
       "      <td>object</td>\n",
       "    </tr>\n",
       "    <tr>\n",
       "      <th>last_review</th>\n",
       "      <td>26401</td>\n",
       "      <td>23028</td>\n",
       "      <td>3373</td>\n",
       "      <td>object</td>\n",
       "    </tr>\n",
       "    <tr>\n",
       "      <th>first_review</th>\n",
       "      <td>26401</td>\n",
       "      <td>23028</td>\n",
       "      <td>3373</td>\n",
       "      <td>object</td>\n",
       "    </tr>\n",
       "    <tr>\n",
       "      <th>host_acceptance_rate</th>\n",
       "      <td>26401</td>\n",
       "      <td>22791</td>\n",
       "      <td>3610</td>\n",
       "      <td>object</td>\n",
       "    </tr>\n",
       "    <tr>\n",
       "      <th>host_response_rate</th>\n",
       "      <td>26401</td>\n",
       "      <td>21715</td>\n",
       "      <td>4686</td>\n",
       "      <td>object</td>\n",
       "    </tr>\n",
       "    <tr>\n",
       "      <th>host_response_time</th>\n",
       "      <td>26401</td>\n",
       "      <td>21715</td>\n",
       "      <td>4686</td>\n",
       "      <td>object</td>\n",
       "    </tr>\n",
       "    <tr>\n",
       "      <th>host_location</th>\n",
       "      <td>26401</td>\n",
       "      <td>20164</td>\n",
       "      <td>6237</td>\n",
       "      <td>object</td>\n",
       "    </tr>\n",
       "    <tr>\n",
       "      <th>host_about</th>\n",
       "      <td>26401</td>\n",
       "      <td>15164</td>\n",
       "      <td>11237</td>\n",
       "      <td>object</td>\n",
       "    </tr>\n",
       "    <tr>\n",
       "      <th>neighborhood_overview</th>\n",
       "      <td>26401</td>\n",
       "      <td>13970</td>\n",
       "      <td>12431</td>\n",
       "      <td>object</td>\n",
       "    </tr>\n",
       "    <tr>\n",
       "      <th>neighbourhood</th>\n",
       "      <td>26401</td>\n",
       "      <td>13970</td>\n",
       "      <td>12431</td>\n",
       "      <td>object</td>\n",
       "    </tr>\n",
       "    <tr>\n",
       "      <th>host_neighbourhood</th>\n",
       "      <td>26401</td>\n",
       "      <td>13570</td>\n",
       "      <td>12831</td>\n",
       "      <td>object</td>\n",
       "    </tr>\n",
       "  </tbody>\n",
       "</table>\n",
       "</div>"
      ],
      "text/plain": [
       "                        Num_filas  Num_nulos  Nulos    Tipo\n",
       "bathrooms_text              26401      26370     31  object\n",
       "description                 26401      25633    768  object\n",
       "host_name                   26401      25544    857  object\n",
       "host_since                  26401      25487    914  object\n",
       "host_identity_verified      26401      25487    914  object\n",
       "host_has_profile_pic        26401      25487    914  object\n",
       "host_verifications          26401      25487    914  object\n",
       "host_thumbnail_url          26401      25487    914  object\n",
       "host_picture_url            26401      25487    914  object\n",
       "has_availability            26401      25401   1000  object\n",
       "host_is_superhost           26401      25042   1359  object\n",
       "price                       26401      23127   3274  object\n",
       "last_review                 26401      23028   3373  object\n",
       "first_review                26401      23028   3373  object\n",
       "host_acceptance_rate        26401      22791   3610  object\n",
       "host_response_rate          26401      21715   4686  object\n",
       "host_response_time          26401      21715   4686  object\n",
       "host_location               26401      20164   6237  object\n",
       "host_about                  26401      15164  11237  object\n",
       "neighborhood_overview       26401      13970  12431  object\n",
       "neighbourhood               26401      13970  12431  object\n",
       "host_neighbourhood          26401      13570  12831  object"
      ]
     },
     "execution_count": 103,
     "metadata": {},
     "output_type": "execute_result"
    }
   ],
   "source": [
    "# Filtrar columnas de tipo object dentro de valores_con_nulos\n",
    "valores_object = valores_con_nulos[valores_con_nulos['Tipo'] == 'object']\n",
    "valores_object"
   ]
  },
  {
   "cell_type": "code",
   "execution_count": null,
   "id": "20cd5a60",
   "metadata": {},
   "outputs": [
    {
     "name": "stdout",
     "output_type": "stream",
     "text": [
      "El número de valores únicos de la columna: 2\n",
      "Lista de valores únicos de la columna: ['t' 'f' nan]\n",
      "Los valores nulos que contiene la columna: 0\n",
      "Nueva lista de valores únicos en la columna: ['t' 'f' 'Idk']\n"
     ]
    }
   ],
   "source": [
    "#Conocimiento de la columna  'host_identity_verified' (914 valores nulos)\n",
    "    #Número de valores únicos de la columna: \n",
    "print('El número de valores únicos de la columna:', df['host_identity_verified'].nunique())\n",
    "    #Lista de valores únicos\n",
    "print('Lista de valores únicos de la columna:',df['host_identity_verified'].unique())\n",
    "   #Sustitución de valores con un valoren concreto\n",
    "df['host_identity_verified'] = df['host_identity_verified'].fillna('Idk')\n",
    "print('Los valores nulos que contiene la columna:',df['host_identity_verified'].isna().sum())\n",
    "    #Nueva lista de valores únicos\n",
    "print('Nueva lista de valores únicos en la columna:',df['host_identity_verified'].unique())"
   ]
  },
  {
   "cell_type": "code",
   "execution_count": null,
   "id": "6603a082",
   "metadata": {},
   "outputs": [
    {
     "name": "stdout",
     "output_type": "stream",
     "text": [
      "El número de valores únicos de la columna: 4131\n",
      "Lista de valores únicos de la columna: ['2010-06-28' '2010-08-09' '2010-10-19' ... '2025-06-18' '2012-01-19'\n",
      " '2025-06-24']\n",
      "Los valores nulos que contiene la columna: 0\n"
     ]
    }
   ],
   "source": [
    "#Conocimiento de la columna  'host_since' (914 valores nulos)\n",
    "    #Número de valores únicos de la columna: \n",
    "print('El número de valores únicos de la columna:', df['host_since'].nunique())\n",
    "    #Lista de valores únicos\n",
    "print('Lista de valores únicos de la columna:',df['host_since'].unique())\n",
    "   #Sustitución de valores con un valoren concreto\n",
    "df['host_since'] = df['host_since'].fillna('0000-00-00')\n",
    "print('Los valores nulos que contiene la columna:', df['host_since'].isna().sum())"
   ]
  },
  {
   "cell_type": "code",
   "execution_count": null,
   "id": "c0cafa13",
   "metadata": {},
   "outputs": [
    {
     "name": "stdout",
     "output_type": "stream",
     "text": [
      "El número de valores únicos de la columna: 21633\n",
      "Los valores nulos que contiene la columna: 0\n"
     ]
    }
   ],
   "source": [
    "#Conocimiento de la columna  'description' (768 valores nulos)\n",
    "   #Número de valores únicos de la columna: \n",
    "print('El número de valores únicos de la columna:', df['description'].nunique())\n",
    "   #Sustitución de valores con un valoren concreto\n",
    "df['description'] = df['description'].fillna('No description')\n",
    "print('Los valores nulos que contiene la columna:', df['description'].isna().sum())"
   ]
  },
  {
   "cell_type": "code",
   "execution_count": null,
   "id": "7eb29300",
   "metadata": {},
   "outputs": [
    {
     "name": "stdout",
     "output_type": "stream",
     "text": [
      "El número de valores únicos de la columna: 4126\n",
      "Los valores nulos que contiene la columna: 0\n"
     ]
    }
   ],
   "source": [
    "#Conocimiento de la columna  'host_name' (857 valores nulos)\n",
    "   #Número de valores únicos de la columna: \n",
    "print('El número de valores únicos de la columna:',df['host_name'].nunique())\n",
    "   #Sustitución de valores con un valoren concreto\n",
    "df['host_name'] = df['host_name'].fillna('Unknow')\n",
    "print('Los valores nulos que contiene la columna:', df['host_name'].isna().sum())"
   ]
  },
  {
   "cell_type": "code",
   "execution_count": null,
   "id": "ee9325e3",
   "metadata": {},
   "outputs": [
    {
     "name": "stdout",
     "output_type": "stream",
     "text": [
      "El número de valores únicos de la columna: 59\n",
      "Los valores nulos que contiene la columna: 0\n"
     ]
    }
   ],
   "source": [
    "#Conocimiento de la columna  'bathrooms_text' (31 valores nulos)\n",
    "    #Número de valores únicos de la columna: \n",
    "print('El número de valores únicos de la columna:',df['bathrooms_text'].nunique())\n",
    "   #Sustitución de valores con un valoren concreto\n",
    "df['bathrooms_text'] = df['bathrooms_text'].fillna('Not specified')\n",
    "print('Los valores nulos que contiene la columna:', df['bathrooms_text'].isna().sum())"
   ]
  }
 ],
 "metadata": {
  "kernelspec": {
   "display_name": "Python 3",
   "language": "python",
   "name": "python3"
  },
  "language_info": {
   "codemirror_mode": {
    "name": "ipython",
    "version": 3
   },
   "file_extension": ".py",
   "mimetype": "text/x-python",
   "name": "python",
   "nbconvert_exporter": "python",
   "pygments_lexer": "ipython3",
   "version": "3.13.6"
  }
 },
 "nbformat": 4,
 "nbformat_minor": 5
}
